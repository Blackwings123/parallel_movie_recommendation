{
  "cells": [
    {
      "cell_type": "code",
      "execution_count": null,
      "metadata": {
        "id": "aw_XLGtNFPe3"
      },
      "outputs": [],
      "source": [
        "import datetime\n",
        "import numpy as np\n",
        "import os\n",
        "import pandas as pd\n",
        "import shutil\n",
        "import urllib.request\n",
        "import zipfile\n",
        "import time\n",
        "import math\n",
        "import matplotlib.pyplot as plt\n",
        "from functools import wraps\n",
        "from math import trunc\n",
        "from sklearn.metrics import mean_squared_error\n",
        "from numba import jit, cuda"
      ]
    },
    {
      "cell_type": "code",
      "execution_count": null,
      "metadata": {
        "id": "ZV4MEKIrFPe7"
      },
      "outputs": [],
      "source": [
        "# VARIANTS object defines data configurations for different file sizes.\n",
        "# Each key represents the data size (e.g., \"100k\" for 100 thousand).\n",
        "VARIANTS = {\n",
        "    \"100k\": {\"filename\": \"u.data\", \"sep\": \"\\t\"},\n",
        "    \"1m\": {\"filename\": \"ratings.dat\", \"sep\": r\"::\"},\n",
        "    \"20m\": {\"filename\": \"ratings.csv\", \"sep\": \",\"},\n",
        "    \"32m\": {\"filename\": \"ratings.csv\", \"sep\": \",\"},\n",
        "}"
      ]
    },
    {
      "cell_type": "code",
      "execution_count": null,
      "metadata": {
        "id": "gMcZPCBiFPe-"
      },
      "outputs": [],
      "source": [
        "# Define the chosen data variant (e.g., \"100k\", \"1m\", \"20m\" or \"32m\")\n",
        "variant = \"32m\""
      ]
    },
    {
      "cell_type": "code",
      "execution_count": null,
      "metadata": {
        "id": "axOeJLwcFPfA"
      },
      "outputs": [],
      "source": [
        "# Check if the chosen variant is a valid key in the VARIANTS object\n",
        "if variant not in VARIANTS:\n",
        "    # If not valid, raise an error\n",
        "    raise ValueError(\n",
        "        f\"Invalid variant: {variant}. Valid options are {list(VARIANTS.keys())}\"\n",
        "    )"
      ]
    },
    {
      "cell_type": "code",
      "execution_count": null,
      "metadata": {
        "id": "TM1JFuOOFPfB"
      },
      "outputs": [],
      "source": [
        "# Construct the URL for downloading the data based on the chosen variant\n",
        "url = f\"http://files.grouplens.org/datasets/movielens/ml-{variant}.zip\""
      ]
    },
    {
      "cell_type": "code",
      "execution_count": null,
      "metadata": {
        "id": "C6kseegJFPfC"
      },
      "outputs": [],
      "source": [
        "# Extract information from the VARIANTS object for the chosen variant\n",
        "variant_info = VARIANTS[variant]\n",
        "\n",
        "# Destructure filename property from the variant information\n",
        "filename = variant_info[\"filename\"]\n",
        "\n",
        "# Construct the directory name based on the variant\n",
        "dirname = f\"ml-{variant}\"\n",
        "\n",
        "# Construct the path to the downloaded zip file\n",
        "zip_path = os.path.join(dirname + \".zip\")"
      ]
    },
    {
      "cell_type": "markdown",
      "metadata": {
        "id": "ZE3vDU6iFPfD"
      },
      "source": [
        "# ==================================================="
      ]
    },
    {
      "cell_type": "code",
      "execution_count": null,
      "metadata": {
        "id": "w5bkdw6xFPfH"
      },
      "outputs": [],
      "source": [
        "# Download the data from the URL and save it to the zip_path\n",
        "with urllib.request.urlopen(url) as r, open(zip_path, \"wb\") as f:\n",
        "    # Copy the downloaded data from the response to the file\n",
        "    shutil.copyfileobj(r, f)"
      ]
    },
    {
      "cell_type": "code",
      "execution_count": null,
      "metadata": {
        "id": "l3G55iOVFPfL"
      },
      "outputs": [],
      "source": [
        "# Extract the data from the downloaded zip file\n",
        "with zipfile.ZipFile(zip_path, \"r\") as zf:\n",
        "    # Extract all files from the zip archive to the current directory\n",
        "    zf.extractall()"
      ]
    },
    {
      "cell_type": "code",
      "execution_count": null,
      "metadata": {
        "id": "I1URhWdTFPfN"
      },
      "outputs": [],
      "source": [
        "# Remove zip file after extraction (optional)\n",
        "os.remove(zip_path)"
      ]
    },
    {
      "cell_type": "code",
      "execution_count": null,
      "metadata": {
        "id": "HIYBHKaMFPfP"
      },
      "outputs": [],
      "source": [
        "# Construct the path to the CSV file\n",
        "csv_path = os.path.join(dirname, filename)\n",
        "\n",
        "# Define the column names for the data\n",
        "names = [\"u_id\", \"i_id\", \"rating\", \"timestamp\"]\n",
        "\n",
        "# Define data type for each column\n",
        "dtype = {\"u_id\": np.uint32, \"i_id\": np.uint32, \"rating\": np.float64}"
      ]
    },
    {
      "cell_type": "code",
      "execution_count": null,
      "metadata": {
        "id": "KLWY47xvFPfP"
      },
      "outputs": [],
      "source": [
        "# Read the CSV data into a Pandas DataFrame\n",
        "df = pd.read_csv(\n",
        "    csv_path,\n",
        "    names=names,\n",
        "    dtype=dtype,\n",
        "    header=0,\n",
        "    sep=VARIANTS[variant][\"sep\"],\n",
        ")"
      ]
    },
    {
      "cell_type": "code",
      "execution_count": null,
      "metadata": {
        "id": "fDP3RxAXFPfP"
      },
      "outputs": [],
      "source": [
        "# Drop the \"timestamp\" column from the DataFrame\n",
        "df.drop(\"timestamp\", inplace=True, axis=1)\n",
        "\n",
        "# Sort the DataFrame by the \"u_id\" column (assuming user IDs)\n",
        "df.sort_values(by=\"u_id\", inplace=True)\n",
        "\n",
        "# Reset the index after sorting (optional, keeps row numbers aligned with data)\n",
        "df.reset_index(drop=True, inplace=True)"
      ]
    },
    {
      "cell_type": "code",
      "execution_count": null,
      "metadata": {
        "id": "EH7u1fYxFPfQ"
      },
      "outputs": [],
      "source": [
        "# Randomly sample 80% for training set\n",
        "train = df.sample(frac=0.8, random_state=7)\n",
        "\n",
        "# Sample 50% from remaining for validation\n",
        "val = df.drop(train.index.tolist()).sample(frac=0.5, random_state=8)\n",
        "\n",
        "# Remaining data becomes test set\n",
        "test = df.drop(train.index.tolist()).drop(val.index.tolist())"
      ]
    },
    {
      "cell_type": "code",
      "execution_count": null,
      "metadata": {
        "id": "0qX8AY8GFPfR"
      },
      "outputs": [],
      "source": [
        "@jit(cache=True)\n",
        "def shuffle(X):\n",
        "    np.random.shuffle(X)\n",
        "    return X"
      ]
    },
    {
      "cell_type": "code",
      "execution_count": null,
      "metadata": {
        "id": "wDUB3USXFPfS"
      },
      "outputs": [],
      "source": [
        "@jit(cache=True)\n",
        "def initialization(n_users, n_items, n_factors):\n",
        "    # Initialize user biases with zeros (n_users length)\n",
        "    bu = np.zeros(n_users)\n",
        "\n",
        "    # Initialize item biases with zeros (n_items length)\n",
        "    bi = np.zeros(n_items)\n",
        "\n",
        "    # Random user factors (normal distribution, mean 0, std 0.1)\n",
        "    pu = np.random.normal(0, 0.1, (n_users, n_factors))\n",
        "\n",
        "    # Random item factors (normal distribution, mean 0, std 0.1)\n",
        "    qi = np.random.normal(0, 0.1, (n_items, n_factors))\n",
        "\n",
        "    return bu, bi, pu, qi"
      ]
    },
    {
      "cell_type": "code",
      "execution_count": null,
      "metadata": {
        "id": "hofqo84m87Tc"
      },
      "outputs": [],
      "source": [
        "@jit(cache=True)\n",
        "def run_epoch_cpu(X, bu, bi, pu, qi, global_mean, n_factors, lr, reg):\n",
        "    # Loop through each rating in the data matrix X\n",
        "    for i in range(X.shape[0]):\n",
        "        # Extract user ID, item ID, and rating from current row\n",
        "        user, item, rating = int(X[i, 0]), int(X[i, 1]), X[i, 2]\n",
        "\n",
        "        # Predict current rating\n",
        "        pred = global_mean + bu[user] + bi[item]\n",
        "        for factor in range(n_factors):\n",
        "            pred += pu[user, factor] * qi[item, factor]\n",
        "\n",
        "        # Calculate the error between predicted and actual rating\n",
        "        err = rating - pred\n",
        "\n",
        "        # Update user and item biases with learning rate (lr) and regularization (reg)\n",
        "        bu[user] += lr * (err - reg * bu[user])\n",
        "        bi[item] += lr * (err - reg * bi[item])\n",
        "\n",
        "        # Update user and item latent factors for all factors (n_factors)\n",
        "        for factor in range(n_factors):\n",
        "            puf = pu[user, factor]\n",
        "            qif = qi[item, factor]\n",
        "\n",
        "            pu[user, factor] += lr * (err * qif - reg * puf)\n",
        "            qi[item, factor] += lr * (err * puf - reg * qif)\n",
        "\n",
        "    return bu, bi, pu, qi\n"
      ]
    },
    {
      "cell_type": "markdown",
      "source": [
        "## Song song hóa theo phương pháp Hogwild"
      ],
      "metadata": {
        "id": "QARe590jAtzJ"
      }
    },
    {
      "cell_type": "code",
      "execution_count": null,
      "metadata": {
        "id": "7fStP-PWFPfS"
      },
      "outputs": [],
      "source": [
        "@cuda.jit\n",
        "def run_epoch_gpu(X, bu, bi, pu, qi, global_mean, n_factors, lr, reg):\n",
        "    c = cuda.blockIdx.x * cuda.blockDim.x + cuda.threadIdx.x\n",
        "\n",
        "    # Loop through each rating in the data matrix X\n",
        "    if c < X.shape[0]:\n",
        "        # Extract user ID, item ID, and rating from current row\n",
        "        user, item, rating = int(X[c, 0]), int(X[c, 1]), X[c, 2]\n",
        "\n",
        "        # Predict current rating\n",
        "        pred = global_mean + bu[user] + bi[item]\n",
        "        for factor in range(n_factors):\n",
        "            pred += pu[user, factor] * qi[item, factor]\n",
        "\n",
        "        # Calculate the error between predicted and actual rating\n",
        "        err = rating - pred\n",
        "\n",
        "        # Update user and item biases with learning rate (lr) and regularization (reg)\n",
        "        bu[user] += lr * (err - reg * bu[user])\n",
        "        bi[item] += lr * (err - reg * bi[item])\n",
        "\n",
        "        # Update user and item latent factors for all factors (n_factors)\n",
        "        for factor in range(n_factors):\n",
        "            puf = pu[user, factor]\n",
        "            qif = qi[item, factor]\n",
        "\n",
        "            pu[user, factor] += lr * (err * qif - reg * puf)\n",
        "            qi[item, factor] += lr * (err * puf - reg * qif)\n"
      ]
    },
    {
      "cell_type": "code",
      "execution_count": null,
      "metadata": {
        "id": "GfJvaolmFPfT"
      },
      "outputs": [],
      "source": [
        "@jit(cache=True)\n",
        "def compute_val_metrics(X_val, bu, bi, pu, qi, global_mean, n_factors):\n",
        "    residuals = []\n",
        "\n",
        "    for i in range(X_val.shape[0]):\n",
        "        user, item, rating = int(X_val[i, 0]), int(X_val[i, 1]), X_val[i, 2]\n",
        "\n",
        "        pred = global_mean\n",
        "\n",
        "        if user > -1:\n",
        "            pred += bu[user]\n",
        "\n",
        "        if item > -1:\n",
        "            pred += bi[item]\n",
        "\n",
        "        if (user > -1) and (item > -1):\n",
        "            for factor in range(n_factors):\n",
        "                pred += pu[user, factor] * qi[item, factor]\n",
        "\n",
        "        residuals.append(rating - pred)\n",
        "\n",
        "    residuals = np.array(residuals)\n",
        "    loss = np.square(residuals).mean()\n",
        "    rmse = np.sqrt(loss)\n",
        "    mae = np.absolute(residuals).mean()\n",
        "\n",
        "    return loss, rmse, mae"
      ]
    },
    {
      "cell_type": "code",
      "execution_count": null,
      "metadata": {
        "id": "NGWhEWCSFPfU"
      },
      "outputs": [],
      "source": [
        "class bcolors:\n",
        "    GREEN = \"\\033[92m\"\n",
        "    YELLOW = \"\\033[93m\"\n",
        "    RED = \"\\033[91m\"\n",
        "    ENDC = \"\\033[0m\""
      ]
    },
    {
      "cell_type": "code",
      "execution_count": null,
      "metadata": {
        "id": "EqbTxx8OFPfU"
      },
      "outputs": [],
      "source": [
        "class SVD:\n",
        "    def __init__(\n",
        "        self,\n",
        "        lr=0.005,\n",
        "        reg=0.02,\n",
        "        n_epochs=20,\n",
        "        n_factors=100,\n",
        "        early_stopping=True,\n",
        "        min_delta=0.001,\n",
        "        min_rating=1,\n",
        "        max_rating=5,\n",
        "        parallel=True\n",
        "    ):\n",
        "\n",
        "        self.lr = lr\n",
        "        self.reg = reg\n",
        "        self.n_epochs = n_epochs\n",
        "        self.n_factors = n_factors\n",
        "        self.early_stopping = early_stopping\n",
        "        self.shuffle = shuffle\n",
        "        self.min_delta = min_delta\n",
        "        self.min_rating = min_rating\n",
        "        self.max_rating = max_rating\n",
        "        self.parallel = parallel\n",
        "        self.log = []\n",
        "\n",
        "    def fit(self, X, X_val=None):\n",
        "        # Preprocess the training data\n",
        "        X = self.preprocess_data(X)\n",
        "\n",
        "        # Check if validation data is provided\n",
        "        if X_val is not None:\n",
        "            # Preprocess the validation data\n",
        "            X_val = self.preprocess_data(X_val, train=False)\n",
        "            # Initialize metrics for evaluation\n",
        "            self.init_metrics()\n",
        "\n",
        "        # Calculate the global mean of the rating feature\n",
        "        self.global_mean_ = np.mean(X[:, 2])\n",
        "\n",
        "        # Run the Stochastic Gradient Descent (SGD) algorithm\n",
        "        self.run_sgd(X, X_val)\n",
        "\n",
        "        return self\n",
        "\n",
        "    def preprocess_data(self, X, train=True):\n",
        "        # Copy the data to avoid modifying the original DataFrame\n",
        "        X = X.copy()\n",
        "\n",
        "        # Mappings are only needed during training\n",
        "        if train:\n",
        "            # Create unique mappings for user and item IDs (if training)\n",
        "            user_ids = X[\"u_id\"].unique().tolist()\n",
        "            item_ids = X[\"i_id\"].unique().tolist()\n",
        "\n",
        "            n_users = len(user_ids)\n",
        "            n_items = len(item_ids)\n",
        "\n",
        "            user_idx = range(n_users)\n",
        "            item_idx = range(n_items)\n",
        "\n",
        "            self.user_mapping_ = dict(zip(user_ids, user_idx))\n",
        "            self.item_mapping_ = dict(zip(item_ids, item_idx))\n",
        "\n",
        "        # Replace user and item IDs with their corresponding indices in the mappings\n",
        "        X[\"u_id\"] = X[\"u_id\"].map(self.user_mapping_)\n",
        "        X[\"i_id\"] = X[\"i_id\"].map(self.item_mapping_)\n",
        "\n",
        "        # Tag unseen users/items in validation data with -1 (for handling unknown entries)\n",
        "        X.fillna(-1, inplace=True)\n",
        "\n",
        "        X[\"u_id\"] = X[\"u_id\"].astype(np.int32)\n",
        "        X[\"i_id\"] = X[\"i_id\"].astype(np.int32)\n",
        "\n",
        "        return X[[\"u_id\", \"i_id\", \"rating\"]].values\n",
        "\n",
        "    def init_metrics(self):\n",
        "        # Initialize empty metrics array with zeros\n",
        "        metrics = np.zeros((self.n_epochs, 3), dtype=float)\n",
        "\n",
        "        # Create a pandas DataFrame from the metrics array\n",
        "        self.metrics_ = pd.DataFrame(metrics, columns=[\"Loss\", \"RMSE\", \"MAE\"])\n",
        "\n",
        "    def run_sgd(self, X, X_val):\n",
        "        # Get number of unique users\n",
        "        n_users = len(np.unique(X[:, 0]))\n",
        "\n",
        "        # Get number of unique items\n",
        "        n_items = len(np.unique(X[:, 1]))\n",
        "\n",
        "        # Initialize model parameters\n",
        "        bu, bi, pu, qi = initialization(n_users, n_items, self.n_factors)\n",
        "\n",
        "        # Run SGD for specified number of epochs\n",
        "        for epoch_ix in range(self.n_epochs):\n",
        "            start = self.on_epoch_begin(epoch_ix)\n",
        "\n",
        "            if not self.parallel:\n",
        "              X = shuffle(X)\n",
        "\n",
        "              # Update model parameters using run_epoch function\n",
        "              run_epoch_cpu(\n",
        "                X, bu, bi, pu, qi, self.global_mean_, self.n_factors, self.lr, self.reg\n",
        "              )\n",
        "            else:\n",
        "              block_size = 32\n",
        "              grid_size = math.ceil(X.shape[0] / block_size)\n",
        "\n",
        "              # Update model parameters using run_epoch function\n",
        "              run_epoch_gpu[grid_size, block_size](\n",
        "                  X, bu, bi, pu, qi, self.global_mean_, self.n_factors, self.lr, self.reg\n",
        "              )\n",
        "\n",
        "            if X_val is not None:\n",
        "                # Compute validation metrics if validation data provided\n",
        "                self.metrics_.loc[epoch_ix, :] = compute_val_metrics(\n",
        "                    X_val, bu, bi, pu, qi, self.global_mean_, self.n_factors\n",
        "                )\n",
        "                self.on_epoch_end(\n",
        "                    start,\n",
        "                    self.metrics_.loc[epoch_ix, \"Loss\"],\n",
        "                    self.metrics_.loc[epoch_ix, \"RMSE\"],\n",
        "                    self.metrics_.loc[epoch_ix, \"MAE\"],\n",
        "                )\n",
        "\n",
        "                self.log.append(self.metrics_.loc[epoch_ix, \"RMSE\"])\n",
        "\n",
        "                if self.early_stopping:\n",
        "                    val_rmse = self.metrics_[\"RMSE\"].tolist()\n",
        "                    if self.check_early_stopping(val_rmse, epoch_ix, self.min_delta):\n",
        "                        break\n",
        "\n",
        "            else:\n",
        "                self.on_epoch_end(start)\n",
        "\n",
        "        # Update internal model parameters with learned values\n",
        "        self.bu_ = bu\n",
        "        self.bi_ = bi\n",
        "        self.pu_ = pu\n",
        "        self.qi_ = qi\n",
        "\n",
        "    def predict(self, X, clip=True):\n",
        "        # Generate predictions for each user-item pair in X\n",
        "        return [\n",
        "            self.predict_pair(u_id, i_id, clip)\n",
        "            for u_id, i_id in zip(X[\"u_id\"], X[\"i_id\"])\n",
        "        ]\n",
        "\n",
        "    def predict_with_uid(self, X, u_id, clip=True):\n",
        "    # Generate predictions for each user-item pair in X\n",
        "        return [\n",
        "          [self.predict_pair(u_id, i_id, clip), i_id]\n",
        "          for i_id in X[\"i_id\"].unique()\n",
        "        ]\n",
        "\n",
        "    def predict_pair(self, u_id, i_id, clip=True):\n",
        "        # Initialize flags indicating if user and item are known\n",
        "        user_known, item_known = False, False\n",
        "\n",
        "        # Start prediction with global mean rating\n",
        "        pred = self.global_mean_\n",
        "\n",
        "        # Check if user ID exists in user mapping\n",
        "        if u_id in self.user_mapping_:\n",
        "            user_known = True\n",
        "            # Get user index\n",
        "            u_ix = self.user_mapping_[u_id]\n",
        "            # Add user bias\n",
        "            pred += self.bu_[u_ix]\n",
        "\n",
        "        # Check if item ID exists in item mapping\n",
        "        if i_id in self.item_mapping_:\n",
        "            item_known = True\n",
        "            # Get user index\n",
        "            i_ix = self.item_mapping_[i_id]\n",
        "            # Add user bias\n",
        "            pred += self.bi_[i_ix]\n",
        "\n",
        "        # If both user and item are known, add user-item interaction component\n",
        "        if user_known and item_known:\n",
        "            pred += np.dot(self.pu_[u_ix], self.qi_[i_ix])\n",
        "\n",
        "        # Clip the predicted rating to the defined range (if clip is True)\n",
        "        if clip:\n",
        "            pred = self.max_rating if pred > self.max_rating else pred\n",
        "            pred = self.min_rating if pred < self.min_rating else pred\n",
        "\n",
        "        return pred\n",
        "\n",
        "    def check_early_stopping(self, val_rmse, epoch_idx, min_delta):\n",
        "        if epoch_idx > 0:\n",
        "            # Check if validation RMSE has worsened by more than min_delta\n",
        "            if val_rmse[epoch_idx] + min_delta > val_rmse[epoch_idx - 1]:\n",
        "                # Update metrics DataFrame up to the current epoch\n",
        "                self.metrics_ = self.metrics_.loc[: (epoch_idx + 1), :]\n",
        "                return True\n",
        "        return False\n",
        "\n",
        "    def on_epoch_begin(self, epoch_ix):\n",
        "        start = time.time()\n",
        "        end = \"  | \" if epoch_ix < 9 else \" | \"\n",
        "        print(\n",
        "            f\"{bcolors.YELLOW}[EPOCH]:{bcolors.ENDC} {epoch_ix + 1}/{self.n_epochs}\",\n",
        "            end=end,\n",
        "        )\n",
        "\n",
        "        return start\n",
        "\n",
        "    def on_epoch_end(self, start, val_loss=None, val_rmse=None, val_mae=None):\n",
        "        end = time.time()\n",
        "\n",
        "        if val_loss is not None:\n",
        "            print(f\"[VAL_LOSS]: {val_loss:.2f}\", end=\" - \")\n",
        "            print(f\"[VAL_RMSE]: {val_rmse:.2f}\", end=\" - \")\n",
        "            print(f\"[VAL_MAE]: {val_mae:.2f}\", end=\" | \")\n",
        "\n",
        "        print(f\"{bcolors.GREEN}[TIME]:{bcolors.ENDC} {end - start:.2f} s\")"
      ]
    },
    {
      "cell_type": "code",
      "execution_count": null,
      "metadata": {
        "colab": {
          "base_uri": "https://localhost:8080/"
        },
        "id": "e0kC1w2dFPfV",
        "outputId": "df93d1ba-75f3-485c-a7f8-dc144ae6c068"
      },
      "outputs": [
        {
          "output_type": "stream",
          "name": "stdout",
          "text": [
            "\u001b[93m[EPOCH]:\u001b[0m 1/50  | "
          ]
        },
        {
          "output_type": "stream",
          "name": "stderr",
          "text": [
            "/usr/local/lib/python3.10/dist-packages/numba/cuda/cudadrv/devicearray.py:888: NumbaPerformanceWarning: Host array used in CUDA kernel will incur copy overhead to/from device.\n",
            "  warn(NumbaPerformanceWarning(msg))\n"
          ]
        },
        {
          "output_type": "stream",
          "name": "stdout",
          "text": [
            "[VAL_LOSS]: 0.85 - [VAL_RMSE]: 0.92 - [VAL_MAE]: 0.71 | \u001b[92m[TIME]:\u001b[0m 3.86 s\n",
            "\u001b[93m[EPOCH]:\u001b[0m 2/50  | "
          ]
        },
        {
          "output_type": "stream",
          "name": "stderr",
          "text": [
            "/usr/local/lib/python3.10/dist-packages/numba/cuda/cudadrv/devicearray.py:888: NumbaPerformanceWarning: Host array used in CUDA kernel will incur copy overhead to/from device.\n",
            "  warn(NumbaPerformanceWarning(msg))\n"
          ]
        },
        {
          "output_type": "stream",
          "name": "stdout",
          "text": [
            "[VAL_LOSS]: 0.81 - [VAL_RMSE]: 0.90 - [VAL_MAE]: 0.69 | \u001b[92m[TIME]:\u001b[0m 1.18 s\n",
            "\u001b[93m[EPOCH]:\u001b[0m 3/50  | [VAL_LOSS]: 0.79 - [VAL_RMSE]: 0.89 - [VAL_MAE]: 0.68 | \u001b[92m[TIME]:\u001b[0m 1.18 s\n",
            "\u001b[93m[EPOCH]:\u001b[0m 4/50  | [VAL_LOSS]: 0.78 - [VAL_RMSE]: 0.88 - [VAL_MAE]: 0.67 | \u001b[92m[TIME]:\u001b[0m 1.17 s\n",
            "\u001b[93m[EPOCH]:\u001b[0m 5/50  | [VAL_LOSS]: 0.77 - [VAL_RMSE]: 0.88 - [VAL_MAE]: 0.67 | \u001b[92m[TIME]:\u001b[0m 1.18 s\n",
            "\u001b[93m[EPOCH]:\u001b[0m 6/50  | [VAL_LOSS]: 0.76 - [VAL_RMSE]: 0.87 - [VAL_MAE]: 0.67 | \u001b[92m[TIME]:\u001b[0m 1.17 s\n",
            "\u001b[93m[EPOCH]:\u001b[0m 7/50  | [VAL_LOSS]: 0.76 - [VAL_RMSE]: 0.87 - [VAL_MAE]: 0.66 | \u001b[92m[TIME]:\u001b[0m 1.17 s\n",
            "\u001b[93m[EPOCH]:\u001b[0m 8/50  | [VAL_LOSS]: 0.75 - [VAL_RMSE]: 0.87 - [VAL_MAE]: 0.66 | \u001b[92m[TIME]:\u001b[0m 1.23 s\n",
            "\u001b[93m[EPOCH]:\u001b[0m 9/50  | [VAL_LOSS]: 0.75 - [VAL_RMSE]: 0.87 - [VAL_MAE]: 0.66 | \u001b[92m[TIME]:\u001b[0m 1.27 s\n",
            "\u001b[93m[EPOCH]:\u001b[0m 10/50 | [VAL_LOSS]: 0.75 - [VAL_RMSE]: 0.86 - [VAL_MAE]: 0.66 | \u001b[92m[TIME]:\u001b[0m 1.32 s\n",
            "\u001b[93m[EPOCH]:\u001b[0m 11/50 | [VAL_LOSS]: 0.74 - [VAL_RMSE]: 0.86 - [VAL_MAE]: 0.66 | \u001b[92m[TIME]:\u001b[0m 1.39 s\n",
            "\u001b[93m[EPOCH]:\u001b[0m 12/50 | [VAL_LOSS]: 0.74 - [VAL_RMSE]: 0.86 - [VAL_MAE]: 0.66 | \u001b[92m[TIME]:\u001b[0m 1.35 s\n",
            "\u001b[93m[EPOCH]:\u001b[0m 13/50 | [VAL_LOSS]: 0.74 - [VAL_RMSE]: 0.86 - [VAL_MAE]: 0.65 | \u001b[92m[TIME]:\u001b[0m 1.33 s\n",
            "\u001b[93m[EPOCH]:\u001b[0m 14/50 | [VAL_LOSS]: 0.73 - [VAL_RMSE]: 0.86 - [VAL_MAE]: 0.65 | \u001b[92m[TIME]:\u001b[0m 1.23 s\n",
            "\u001b[93m[EPOCH]:\u001b[0m 15/50 | [VAL_LOSS]: 0.73 - [VAL_RMSE]: 0.85 - [VAL_MAE]: 0.65 | \u001b[92m[TIME]:\u001b[0m 1.17 s\n",
            "\u001b[93m[EPOCH]:\u001b[0m 16/50 | [VAL_LOSS]: 0.72 - [VAL_RMSE]: 0.85 - [VAL_MAE]: 0.65 | \u001b[92m[TIME]:\u001b[0m 1.17 s\n",
            "\u001b[93m[EPOCH]:\u001b[0m 17/50 | [VAL_LOSS]: 0.72 - [VAL_RMSE]: 0.85 - [VAL_MAE]: 0.64 | \u001b[92m[TIME]:\u001b[0m 1.18 s\n",
            "\u001b[93m[EPOCH]:\u001b[0m 18/50 | [VAL_LOSS]: 0.71 - [VAL_RMSE]: 0.84 - [VAL_MAE]: 0.64 | \u001b[92m[TIME]:\u001b[0m 1.21 s\n",
            "\u001b[93m[EPOCH]:\u001b[0m 19/50 | [VAL_LOSS]: 0.71 - [VAL_RMSE]: 0.84 - [VAL_MAE]: 0.64 | \u001b[92m[TIME]:\u001b[0m 1.16 s\n",
            "\u001b[93m[EPOCH]:\u001b[0m 20/50 | [VAL_LOSS]: 0.70 - [VAL_RMSE]: 0.84 - [VAL_MAE]: 0.64 | \u001b[92m[TIME]:\u001b[0m 1.21 s\n",
            "\u001b[93m[EPOCH]:\u001b[0m 21/50 | [VAL_LOSS]: 0.70 - [VAL_RMSE]: 0.83 - [VAL_MAE]: 0.63 | \u001b[92m[TIME]:\u001b[0m 1.17 s\n",
            "\u001b[93m[EPOCH]:\u001b[0m 22/50 | [VAL_LOSS]: 0.69 - [VAL_RMSE]: 0.83 - [VAL_MAE]: 0.63 | \u001b[92m[TIME]:\u001b[0m 1.19 s\n",
            "\u001b[93m[EPOCH]:\u001b[0m 23/50 | [VAL_LOSS]: 0.69 - [VAL_RMSE]: 0.83 - [VAL_MAE]: 0.63 | \u001b[92m[TIME]:\u001b[0m 1.25 s\n",
            "\u001b[93m[EPOCH]:\u001b[0m 24/50 | [VAL_LOSS]: 0.68 - [VAL_RMSE]: 0.83 - [VAL_MAE]: 0.63 | \u001b[92m[TIME]:\u001b[0m 1.27 s\n",
            "\u001b[93m[EPOCH]:\u001b[0m 25/50 | [VAL_LOSS]: 0.68 - [VAL_RMSE]: 0.82 - [VAL_MAE]: 0.62 | \u001b[92m[TIME]:\u001b[0m 1.33 s\n",
            "\u001b[93m[EPOCH]:\u001b[0m 26/50 | [VAL_LOSS]: 0.67 - [VAL_RMSE]: 0.82 - [VAL_MAE]: 0.62 | \u001b[92m[TIME]:\u001b[0m 1.34 s\n",
            "\u001b[93m[EPOCH]:\u001b[0m 27/50 | [VAL_LOSS]: 0.67 - [VAL_RMSE]: 0.82 - [VAL_MAE]: 0.62 | \u001b[92m[TIME]:\u001b[0m 1.35 s\n",
            "\u001b[93m[EPOCH]:\u001b[0m 28/50 | [VAL_LOSS]: 0.67 - [VAL_RMSE]: 0.82 - [VAL_MAE]: 0.62 | \u001b[92m[TIME]:\u001b[0m 1.33 s\n",
            "\u001b[93m[EPOCH]:\u001b[0m 29/50 | [VAL_LOSS]: 0.66 - [VAL_RMSE]: 0.81 - [VAL_MAE]: 0.62 | \u001b[92m[TIME]:\u001b[0m 1.22 s\n",
            "\u001b[93m[EPOCH]:\u001b[0m 30/50 | [VAL_LOSS]: 0.66 - [VAL_RMSE]: 0.81 - [VAL_MAE]: 0.62 | \u001b[92m[TIME]:\u001b[0m 1.18 s\n",
            "\u001b[93m[EPOCH]:\u001b[0m 31/50 | [VAL_LOSS]: 0.66 - [VAL_RMSE]: 0.81 - [VAL_MAE]: 0.61 | \u001b[92m[TIME]:\u001b[0m 1.18 s\n",
            "\u001b[93m[EPOCH]:\u001b[0m 32/50 | [VAL_LOSS]: 0.65 - [VAL_RMSE]: 0.81 - [VAL_MAE]: 0.61 | \u001b[92m[TIME]:\u001b[0m 1.16 s\n",
            "\u001b[93m[EPOCH]:\u001b[0m 33/50 | [VAL_LOSS]: 0.65 - [VAL_RMSE]: 0.81 - [VAL_MAE]: 0.61 | \u001b[92m[TIME]:\u001b[0m 1.17 s\n",
            "\u001b[93m[EPOCH]:\u001b[0m 34/50 | [VAL_LOSS]: 0.65 - [VAL_RMSE]: 0.80 - [VAL_MAE]: 0.61 | \u001b[92m[TIME]:\u001b[0m 1.16 s\n",
            "\u001b[93m[EPOCH]:\u001b[0m 35/50 | [VAL_LOSS]: 0.64 - [VAL_RMSE]: 0.80 - [VAL_MAE]: 0.61 | \u001b[92m[TIME]:\u001b[0m 1.16 s\n",
            "\u001b[93m[EPOCH]:\u001b[0m 36/50 | [VAL_LOSS]: 0.64 - [VAL_RMSE]: 0.80 - [VAL_MAE]: 0.61 | \u001b[92m[TIME]:\u001b[0m 1.19 s\n",
            "\u001b[93m[EPOCH]:\u001b[0m 37/50 | [VAL_LOSS]: 0.64 - [VAL_RMSE]: 0.80 - [VAL_MAE]: 0.60 | \u001b[92m[TIME]:\u001b[0m 1.21 s\n",
            "\u001b[93m[EPOCH]:\u001b[0m 38/50 | [VAL_LOSS]: 0.64 - [VAL_RMSE]: 0.80 - [VAL_MAE]: 0.60 | \u001b[92m[TIME]:\u001b[0m 1.29 s\n",
            "\u001b[93m[EPOCH]:\u001b[0m 39/50 | [VAL_LOSS]: 0.63 - [VAL_RMSE]: 0.80 - [VAL_MAE]: 0.60 | \u001b[92m[TIME]:\u001b[0m 1.31 s\n",
            "\u001b[93m[EPOCH]:\u001b[0m 40/50 | [VAL_LOSS]: 0.63 - [VAL_RMSE]: 0.79 - [VAL_MAE]: 0.60 | \u001b[92m[TIME]:\u001b[0m 1.32 s\n",
            "\u001b[93m[EPOCH]:\u001b[0m 41/50 | [VAL_LOSS]: 0.63 - [VAL_RMSE]: 0.79 - [VAL_MAE]: 0.60 | \u001b[92m[TIME]:\u001b[0m 1.35 s\n",
            "\u001b[93m[EPOCH]:\u001b[0m 42/50 | [VAL_LOSS]: 0.63 - [VAL_RMSE]: 0.79 - [VAL_MAE]: 0.60 | \u001b[92m[TIME]:\u001b[0m 1.36 s\n",
            "\u001b[93m[EPOCH]:\u001b[0m 43/50 | [VAL_LOSS]: 0.63 - [VAL_RMSE]: 0.79 - [VAL_MAE]: 0.60 | \u001b[92m[TIME]:\u001b[0m 1.34 s\n",
            "\u001b[93m[EPOCH]:\u001b[0m 44/50 | [VAL_LOSS]: 0.62 - [VAL_RMSE]: 0.79 - [VAL_MAE]: 0.60 | \u001b[92m[TIME]:\u001b[0m 1.19 s\n",
            "\u001b[93m[EPOCH]:\u001b[0m 45/50 | [VAL_LOSS]: 0.62 - [VAL_RMSE]: 0.79 - [VAL_MAE]: 0.60 | \u001b[92m[TIME]:\u001b[0m 1.16 s\n",
            "\u001b[93m[EPOCH]:\u001b[0m 46/50 | [VAL_LOSS]: 0.62 - [VAL_RMSE]: 0.79 - [VAL_MAE]: 0.60 | \u001b[92m[TIME]:\u001b[0m 1.17 s\n",
            "\u001b[93m[EPOCH]:\u001b[0m 47/50 | [VAL_LOSS]: 0.62 - [VAL_RMSE]: 0.79 - [VAL_MAE]: 0.59 | \u001b[92m[TIME]:\u001b[0m 1.20 s\n",
            "\n",
            "\u001b[91m[PROCESSING TIME]:\u001b[0m 68.51 s\n"
          ]
        }
      ],
      "source": [
        "svd = SVD(\n",
        "    lr=0.001,\n",
        "    reg=0.005,\n",
        "    n_epochs=50,\n",
        "    n_factors=25,\n",
        "    early_stopping=True,\n",
        "    min_rating=1,\n",
        "    max_rating=5,\n",
        "    parallel=True\n",
        ")\n",
        "\n",
        "start = time.time()\n",
        "svd.fit(X=train, X_val=val)\n",
        "end = time.time()\n",
        "\n",
        "print(f\"\\n{bcolors.RED}[PROCESSING TIME]:{bcolors.ENDC} {end - start:.2f} s\")"
      ]
    },
    {
      "cell_type": "code",
      "execution_count": null,
      "metadata": {
        "id": "a_Y-7r9xFPfW"
      },
      "outputs": [],
      "source": [
        "pred = svd.predict(test)"
      ]
    },
    {
      "cell_type": "code",
      "execution_count": null,
      "metadata": {
        "colab": {
          "base_uri": "https://localhost:8080/"
        },
        "id": "tvBhiAxQFPfX",
        "outputId": "00d20d75-28ec-4f9a-811d-362f433117b3"
      },
      "outputs": [
        {
          "output_type": "stream",
          "name": "stdout",
          "text": [
            "\n",
            "\u001b[91m[TEST RMSE]:\u001b[0m 0.79\n"
          ]
        }
      ],
      "source": [
        "rmse = mean_squared_error(test[\"rating\"], pred, squared = False)\n",
        "print(f\"\\n{bcolors.RED}[TEST RMSE]:{bcolors.ENDC} {rmse:.2f}\")"
      ]
    },
    {
      "cell_type": "code",
      "execution_count": null,
      "metadata": {
        "colab": {
          "base_uri": "https://localhost:8080/",
          "height": 449
        },
        "id": "cFqV4B7vKyjk",
        "outputId": "db4ae7e9-3660-44a3-9a0b-5ec6b39f8735"
      },
      "outputs": [
        {
          "output_type": "display_data",
          "data": {
            "text/plain": [
              "<Figure size 640x480 with 1 Axes>"
            ],
            "image/png": "[encoded data removed]"
          },
          "metadata": {}
        }
      ],
      "source": [
        "# Create epoch values\n",
        "epochs = np.arange(1, len(svd.log) + 1)\n",
        "\n",
        "# Plot the data\n",
        "plt.plot(epochs, svd.log, color='r', label='RMSE')\n",
        "\n",
        "# Customize x and y labels\n",
        "plt.xlabel(\"Epoch\")\n",
        "plt.ylabel(\"RMSE\")\n",
        "\n",
        "# Add a legend\n",
        "plt.legend()\n",
        "\n",
        "# Show the plot\n",
        "plt.show()"
      ]
    },
    {
      "cell_type": "markdown",
      "source": [
        "# Recommend List Phim ra cho User với Input là User ID tương ứng:"
      ],
      "metadata": {
        "id": "67zosYrcq0hZ"
      }
    },
    {
      "cell_type": "markdown",
      "source": [
        "### CHỌN U_ID (ID CỦA CÁC USERS ĐÃ ĐÁNH GIÁ) ĐỂ ĐỀ XUẤT"
      ],
      "metadata": {
        "id": "NWH25xNRq0Y4"
      }
    },
    {
      "cell_type": "code",
      "source": [
        "u_id = 10000"
      ],
      "metadata": {
        "id": "nnnEKkIbrNYf"
      },
      "execution_count": null,
      "outputs": []
    },
    {
      "cell_type": "code",
      "source": [
        "recommend = svd.predict_with_uid(df, u_id)\n",
        "recommend = sorted(recommend, key=lambda row: -row[0])[:10]\n",
        "\n",
        "# Construct the path to the CSV file\n",
        "csv_path = os.path.join(dirname, \"movies.csv\")\n",
        "\n",
        "# Define the column names for the data\n",
        "names = [\"movie_id\", \"title\", \"gernes\"]\n",
        "\n",
        "# Read the CSV data into a Pandas DataFrame\n",
        "df_m = pd.read_csv(\n",
        "    csv_path,\n",
        "    names=names,\n",
        "    header=0,\n",
        "    sep=\",\",\n",
        "    encoding=\"latin-1\"\n",
        ")"
      ],
      "metadata": {
        "id": "wt4M_1V5qz1i"
      },
      "execution_count": null,
      "outputs": []
    },
    {
      "cell_type": "code",
      "source": [
        "df_m = df_m[['movie_id','title']]\n",
        "i_dict = dict(df_m.values)\n",
        "for i in range(len(recommend)):\n",
        "    recommend[i][1] = i_dict[recommend[i][1]]\n",
        "\n",
        "history = df.loc[df['u_id']==u_id,:] # Lich sử phim mà User đó đã đánh giá\n",
        "history = history.sort_values(by=['rating'], ascending=False)[:10]\n",
        "\n",
        "best_history = [] # Lich sử phim mà User đó đánh giá cao nhất (Gần với 5 sao nhất)\n",
        "for i in range(len(history)):\n",
        "    best_history.append([history.iloc[i]['rating'], i_dict[history.iloc[i]['i_id']]])"
      ],
      "metadata": {
        "id": "4nUIhJasq-Kz"
      },
      "execution_count": null,
      "outputs": []
    },
    {
      "cell_type": "code",
      "source": [
        "# Output ra Lich sử phim mà User đó đánh giá cao nhất (Gần với 5 sao nhất)\n",
        "best_history"
      ],
      "metadata": {
        "colab": {
          "base_uri": "https://localhost:8080/"
        },
        "id": "b_NtVvsVq-F-",
        "outputId": "f7e080ed-690d-421e-fac2-cb6a46cde89d"
      },
      "execution_count": null,
      "outputs": [
        {
          "output_type": "execute_result",
          "data": {
            "text/plain": [
              "[[5.0, 'Sleepless in Seattle (1993)'],\n",
              " [5.0, 'Dave (1993)'],\n",
              " [5.0, 'American President, The (1995)'],\n",
              " [5.0, 'Back to the Future (1985)'],\n",
              " [5.0, 'Forrest Gump (1994)'],\n",
              " [5.0, 'Hoosiers (a.k.a. Best Shot) (1986)'],\n",
              " [5.0, \"It's a Wonderful Life (1946)\"],\n",
              " [5.0, 'Rain Man (1988)'],\n",
              " [5.0, 'Shakespeare in Love (1998)'],\n",
              " [5.0, 'Phenomenon (1996)']]"
            ]
          },
          "metadata": {},
          "execution_count": 32
        }
      ]
    },
    {
      "cell_type": "code",
      "source": [
        "# Output ra list phim đề xuất\n",
        "recommend"
      ],
      "metadata": {
        "colab": {
          "base_uri": "https://localhost:8080/"
        },
        "id": "5GfX3o5Xq-An",
        "outputId": "a14e96b2-6433-4ca2-9238-9c551b780871"
      },
      "execution_count": null,
      "outputs": [
        {
          "output_type": "execute_result",
          "data": {
            "text/plain": [
              "[[4.476546196566656, 'Forrest Gump (1994)'],\n",
              " [4.474778016193918, 'Shawshank Redemption, The (1994)'],\n",
              " [4.46192696786432, 'Planet Earth II (2016)'],\n",
              " [4.429360409504172, 'Band of Brothers (2001)'],\n",
              " [4.429114038842713, 'The Rescue (2021)'],\n",
              " [4.39958330924736, 'Planet Earth (2006)'],\n",
              " [4.390415194696957, 'Green Mile, The (1999)'],\n",
              " [4.381432398366649, 'Lion King, The (1994)'],\n",
              " [4.3756198824731465, 'Last Lions, The (2011)'],\n",
              " [4.3587163284771, 'Cosmos: A Spacetime Odissey']]"
            ]
          },
          "metadata": {},
          "execution_count": 33
        }
      ]
    },
    {
      "cell_type": "markdown",
      "metadata": {
        "id": "ehd-B37Zgie5"
      },
      "source": [
        "## So sánh Runtime với việc dùng Thư viện Surprise:"
      ]
    },
    {
      "cell_type": "code",
      "execution_count": null,
      "metadata": {
        "colab": {
          "base_uri": "https://localhost:8080/"
        },
        "id": "ueDfdoNYgie5",
        "outputId": "9b595ca7-572d-451c-85e5-e2bb9a2b06db"
      },
      "outputs": [
        {
          "output_type": "stream",
          "name": "stdout",
          "text": [
            "Requirement already satisfied: scikit-surprise in /usr/local/lib/python3.10/dist-packages (1.1.4)\n",
            "Requirement already satisfied: joblib>=1.2.0 in /usr/local/lib/python3.10/dist-packages (from scikit-surprise) (1.4.2)\n",
            "Requirement already satisfied: numpy>=1.19.5 in /usr/local/lib/python3.10/dist-packages (from scikit-surprise) (1.26.4)\n",
            "Requirement already satisfied: scipy>=1.6.0 in /usr/local/lib/python3.10/dist-packages (from scikit-surprise) (1.13.1)\n"
          ]
        }
      ],
      "source": [
        "!pip install scikit-surprise\n",
        "from surprise import Dataset\n",
        "from surprise import Reader\n",
        "from surprise import SVD\n",
        "from sklearn.metrics import mean_squared_error\n",
        "from sklearn.metrics import mean_absolute_error"
      ]
    },
    {
      "cell_type": "code",
      "execution_count": null,
      "metadata": {
        "colab": {
          "base_uri": "https://localhost:8080/"
        },
        "id": "vUpnYiEmgie5",
        "outputId": "e00ca716-fa16-4121-939b-1d84974afce6"
      },
      "outputs": [
        {
          "output_type": "stream",
          "name": "stdout",
          "text": [
            "CPU times: user 1min 15s, sys: 5.61 s, total: 1min 21s\n",
            "Wall time: 1min 29s\n"
          ]
        }
      ],
      "source": [
        "%%time\n",
        "\n",
        "reader = Reader(rating_scale=(1, 5))\n",
        "\n",
        "trainset = Dataset.load_from_df(train[['u_id', 'i_id', 'rating']],\n",
        "                               reader=reader).build_full_trainset()\n",
        "\n",
        "testset = Dataset.load_from_df(test[['u_id', 'i_id', 'rating']], reader=reader)\n",
        "testset = testset.construct_testset(testset.raw_ratings)"
      ]
    },
    {
      "cell_type": "code",
      "execution_count": null,
      "metadata": {
        "colab": {
          "base_uri": "https://localhost:8080/"
        },
        "id": "0iaW1y35gie5",
        "outputId": "e76d08b0-b121-4adc-c15c-2aa006a09421"
      },
      "outputs": [
        {
          "output_type": "stream",
          "name": "stdout",
          "text": [
            "Processing epoch 0\n",
            "Processing epoch 1\n",
            "Processing epoch 2\n",
            "Processing epoch 3\n",
            "Processing epoch 4\n",
            "Processing epoch 5\n",
            "Processing epoch 6\n",
            "Processing epoch 7\n",
            "Processing epoch 8\n",
            "Processing epoch 9\n",
            "Processing epoch 10\n",
            "Processing epoch 11\n",
            "Processing epoch 12\n",
            "Processing epoch 13\n",
            "Processing epoch 14\n",
            "Processing epoch 15\n",
            "Processing epoch 16\n",
            "Processing epoch 17\n",
            "Processing epoch 18\n",
            "Processing epoch 19\n",
            "Processing epoch 20\n",
            "Processing epoch 21\n",
            "Processing epoch 22\n",
            "Processing epoch 23\n",
            "Processing epoch 24\n",
            "Processing epoch 25\n",
            "Processing epoch 26\n",
            "Processing epoch 27\n",
            "Processing epoch 28\n",
            "Processing epoch 29\n",
            "Processing epoch 30\n",
            "Processing epoch 31\n",
            "Processing epoch 32\n",
            "Processing epoch 33\n",
            "Processing epoch 34\n",
            "Processing epoch 35\n",
            "Processing epoch 36\n",
            "Processing epoch 37\n",
            "Processing epoch 38\n",
            "Processing epoch 39\n",
            "Processing epoch 40\n",
            "Processing epoch 41\n",
            "Processing epoch 42\n",
            "Processing epoch 43\n",
            "Processing epoch 44\n",
            "Processing epoch 45\n",
            "Processing epoch 46\n",
            "Processing epoch 47\n",
            "Processing epoch 48\n",
            "Processing epoch 49\n",
            "\n",
            "\u001b[91m[PROCESSING TIME]:\u001b[0m 1625.61 s\n"
          ]
        }
      ],
      "source": [
        "start = time.time()\n",
        "svd = SVD(lr_all=0.001, reg_all=0.005, n_epochs=50, n_factors=100, verbose=True)\n",
        "svd.fit(trainset)\n",
        "end = time.time()\n",
        "print(f\"\\n{bcolors.RED}[PROCESSING TIME]:{bcolors.ENDC} {end - start:.2f} s\")"
      ]
    },
    {
      "cell_type": "code",
      "execution_count": null,
      "metadata": {
        "colab": {
          "base_uri": "https://localhost:8080/"
        },
        "id": "FA9Ou1gYgie5",
        "outputId": "0d90e4d5-78fe-44be-becd-b9e39cffd9af"
      },
      "outputs": [
        {
          "output_type": "stream",
          "name": "stdout",
          "text": [
            "\n",
            "\u001b[91m[TEST RMSE]:\u001b[0m 0.78\n",
            "\n",
            "\u001b[91m[TEST MAE]:\u001b[0m 0.59\n",
            "\n",
            "CPU times: user 1min 2s, sys: 1.33 s, total: 1min 3s\n",
            "Wall time: 1min 3s\n"
          ]
        }
      ],
      "source": [
        "%%time\n",
        "\n",
        "pred = svd.test(testset)\n",
        "y_true = [p.r_ui for p in pred]\n",
        "y_hat = [p.est for p in pred]\n",
        "\n",
        "rmse = mean_squared_error(y_true, y_hat, squared = False)\n",
        "mae = mean_absolute_error(y_true, y_hat)\n",
        "print(f\"\\n{bcolors.RED}[TEST RMSE]:{bcolors.ENDC} {rmse:.2f}\")\n",
        "print(f\"\\n{bcolors.RED}[TEST MAE]:{bcolors.ENDC} {mae:.2f}\")\n",
        "print()"
      ]
    }
  ],
  "metadata": {
    "accelerator": "GPU",
    "colab": {
      "gpuType": "T4",
      "provenance": [],
      "collapsed_sections": [
        "ehd-B37Zgie5"
      ]
    },
    "kernelspec": {
      "display_name": "Python 3",
      "name": "python3"
    },
    "language_info": {
      "codemirror_mode": {
        "name": "ipython",
        "version": 3
      },
      "file_extension": ".py",
      "mimetype": "text/x-python",
      "name": "python",
      "nbconvert_exporter": "python",
      "pygments_lexer": "ipython3",
      "version": "3.11.0"
    }
  },
  "nbformat": 4,
  "nbformat_minor": 0
}